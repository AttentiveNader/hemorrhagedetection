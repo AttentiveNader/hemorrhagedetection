{
 "cells": [
  {
   "cell_type": "code",
   "execution_count": 2,
   "metadata": {},
   "outputs": [
    {
     "name": "stderr",
     "output_type": "stream",
     "text": [
      "Using TensorFlow backend.\n"
     ]
    }
   ],
   "source": [
    "import numpy as np\n",
    "import statistics\n",
    "import pandas as pd\n",
    "# import cv2\n",
    "from keras.models import Sequential\n",
    "from keras.layers import Dense, Conv2D, Flatten,MaxPooling2D\n",
    "import matplotlib.image as mpimg\n",
    "import matplotlib.pyplot as plt\n",
    "import tensorflow as tf\n",
    "from PIL import Image\n",
    "# from os import walk\n",
    "import os, glob\n",
    "%matplotlib inline\n",
    "# import numpy as np"
   ]
  },
  {
   "cell_type": "code",
   "execution_count": 3,
   "metadata": {},
   "outputs": [],
   "source": [
    "def create_data(dir):\n",
    "    pixels = []\n",
    "    hemmor_labels = []\n",
    "\n",
    "    height  = 64\n",
    "    width = 64\n",
    "    for infile in glob.glob(\"./\"+dir+\"/hemmorhage_data/*.png\"):\n",
    "        img =  Image.open(infile)\n",
    "        img = img.resize((width, height), Image.ANTIALIAS).convert(\"RGB\")\n",
    "        img = np.asarray(img)/255.0\n",
    "        img = img.tolist()\n",
    "        pixels.append(img)\n",
    "        hemmor_labels.append(1)\n",
    "\n",
    "    for infile in glob.glob(\"./\"+dir+\"/non_hemmorhage_data/*.png\"):\n",
    "        img =  Image.open(infile)\n",
    "        img = img.resize((width, height), Image.ANTIALIAS).convert(\"RGB\")\n",
    "        img = np.asarray(img)/255.0\n",
    "        img = img.tolist()\n",
    "        pixels.append(img)\n",
    "        hemmor_labels.append(0)\n",
    "\n",
    "    data = {\"pixels\" : pixels, \"hemmorhage\" :hemmor_labels }\n",
    "\n",
    "    data = pd.DataFrame(data)\n",
    "    data = data.sample(frac=1).reset_index(drop=True)\n",
    "    return data"
   ]
  },
  {
   "cell_type": "code",
   "execution_count": 4,
   "metadata": {},
   "outputs": [],
   "source": [
    "train = create_data(\"training_set\")\n",
    "xtrain = train[\"pixels\"]\n",
    "xtrain = np.asarray(xtrain.to_numpy().tolist())\n",
    "ytrain = train[[\"hemmorhage\"]]\n",
    "ytrain = ytrain.to_numpy()\n",
    "test = create_data(\"test_set\")\n",
    "xtest = test[\"pixels\"]\n",
    "xtest = np.asarray(xtest.to_numpy().tolist())\n",
    "ytest = test[[\"hemmorhage\"]]\n",
    "ytest = ytest.to_numpy()"
   ]
  },
  {
   "cell_type": "code",
   "execution_count": 5,
   "metadata": {},
   "outputs": [
    {
     "name": "stderr",
     "output_type": "stream",
     "text": [
      "WARNING: Logging before flag parsing goes to stderr.\n",
      "W1013 20:06:25.654015  6304 deprecation_wrapper.py:119] From C:\\Users\\m\\Anaconda3\\envs\\tf-gpu\\lib\\site-packages\\keras\\backend\\tensorflow_backend.py:74: The name tf.get_default_graph is deprecated. Please use tf.compat.v1.get_default_graph instead.\n",
      "\n",
      "W1013 20:06:25.672063  6304 deprecation_wrapper.py:119] From C:\\Users\\m\\Anaconda3\\envs\\tf-gpu\\lib\\site-packages\\keras\\backend\\tensorflow_backend.py:517: The name tf.placeholder is deprecated. Please use tf.compat.v1.placeholder instead.\n",
      "\n",
      "W1013 20:06:25.676539  6304 deprecation_wrapper.py:119] From C:\\Users\\m\\Anaconda3\\envs\\tf-gpu\\lib\\site-packages\\keras\\backend\\tensorflow_backend.py:4138: The name tf.random_uniform is deprecated. Please use tf.random.uniform instead.\n",
      "\n",
      "W1013 20:06:25.698598  6304 deprecation_wrapper.py:119] From C:\\Users\\m\\Anaconda3\\envs\\tf-gpu\\lib\\site-packages\\keras\\backend\\tensorflow_backend.py:3976: The name tf.nn.max_pool is deprecated. Please use tf.nn.max_pool2d instead.\n",
      "\n"
     ]
    }
   ],
   "source": [
    "model = Sequential()\n",
    "\n",
    "model.add(Conv2D(16,kernel_size= 3,padding='valid',activation='relu',input_shape=(64,64,3)))\n",
    "model.add(MaxPooling2D(pool_size=(2,2)))\n",
    "model.add(Conv2D(32,kernel_size= 3,padding='valid',activation='relu'))\n",
    "model.add(MaxPooling2D(pool_size=(2,2)))\n",
    "model.add(Conv2D(64,kernel_size= 3,padding='valid',activation='relu'))\n",
    "model.add(MaxPooling2D(pool_size=(2,2)))\n",
    "model.add(Flatten())\n",
    "model.add(Dense(800,activation='relu'))\n",
    "model.add(Dense(400,activation='relu'))\n",
    "model.add(Dense(1,activation='sigmoid'))\n"
   ]
  },
  {
   "cell_type": "code",
   "execution_count": 6,
   "metadata": {},
   "outputs": [
    {
     "name": "stderr",
     "output_type": "stream",
     "text": [
      "W1013 20:06:25.826488  6304 deprecation_wrapper.py:119] From C:\\Users\\m\\Anaconda3\\envs\\tf-gpu\\lib\\site-packages\\keras\\optimizers.py:790: The name tf.train.Optimizer is deprecated. Please use tf.compat.v1.train.Optimizer instead.\n",
      "\n",
      "W1013 20:06:25.862065  6304 deprecation_wrapper.py:119] From C:\\Users\\m\\Anaconda3\\envs\\tf-gpu\\lib\\site-packages\\keras\\backend\\tensorflow_backend.py:3376: The name tf.log is deprecated. Please use tf.math.log instead.\n",
      "\n",
      "W1013 20:06:25.871057  6304 deprecation.py:323] From C:\\Users\\m\\Anaconda3\\envs\\tf-gpu\\lib\\site-packages\\tensorflow\\python\\ops\\nn_impl.py:180: add_dispatch_support.<locals>.wrapper (from tensorflow.python.ops.array_ops) is deprecated and will be removed in a future version.\n",
      "Instructions for updating:\n",
      "Use tf.where in 2.0, which has the same broadcast rule as np.where\n"
     ]
    }
   ],
   "source": [
    "model.compile(optimizer='adam', loss='binary_crossentropy', metrics=['accuracy'])"
   ]
  },
  {
   "cell_type": "code",
   "execution_count": 7,
   "metadata": {},
   "outputs": [
    {
     "name": "stderr",
     "output_type": "stream",
     "text": [
      "W1013 20:06:28.670311  6304 deprecation_wrapper.py:119] From C:\\Users\\m\\Anaconda3\\envs\\tf-gpu\\lib\\site-packages\\keras\\backend\\tensorflow_backend.py:986: The name tf.assign_add is deprecated. Please use tf.compat.v1.assign_add instead.\n",
      "\n"
     ]
    },
    {
     "name": "stdout",
     "output_type": "stream",
     "text": [
      "Train on 180 samples, validate on 20 samples\n",
      "Epoch 1/45\n",
      "180/180 [==============================] - 6s 35ms/step - loss: 0.7694 - acc: 0.5167 - val_loss: 0.6815 - val_acc: 0.5000\n",
      "Epoch 2/45\n",
      "180/180 [==============================] - 0s 1ms/step - loss: 0.6586 - acc: 0.6000 - val_loss: 0.6671 - val_acc: 0.5500\n",
      "Epoch 3/45\n",
      "180/180 [==============================] - 0s 1ms/step - loss: 0.5880 - acc: 0.7444 - val_loss: 0.5847 - val_acc: 0.7500\n",
      "Epoch 4/45\n",
      "180/180 [==============================] - 0s 1ms/step - loss: 0.4359 - acc: 0.8000 - val_loss: 1.0218 - val_acc: 0.6000\n",
      "Epoch 5/45\n",
      "180/180 [==============================] - 0s 1ms/step - loss: 0.5064 - acc: 0.7778 - val_loss: 0.8165 - val_acc: 0.6500\n",
      "Epoch 6/45\n",
      "180/180 [==============================] - 0s 1ms/step - loss: 0.4150 - acc: 0.8556 - val_loss: 0.6155 - val_acc: 0.7500\n",
      "Epoch 7/45\n",
      "180/180 [==============================] - 0s 1ms/step - loss: 0.3903 - acc: 0.8333 - val_loss: 0.4471 - val_acc: 0.7500\n",
      "Epoch 8/45\n",
      "180/180 [==============================] - 0s 1ms/step - loss: 0.3358 - acc: 0.8556 - val_loss: 0.5116 - val_acc: 0.8000\n",
      "Epoch 9/45\n",
      "180/180 [==============================] - 0s 1ms/step - loss: 0.3090 - acc: 0.8500 - val_loss: 0.4045 - val_acc: 0.8000\n",
      "Epoch 10/45\n",
      "180/180 [==============================] - 0s 1ms/step - loss: 0.2689 - acc: 0.8778 - val_loss: 0.3744 - val_acc: 0.8000\n",
      "Epoch 11/45\n",
      "180/180 [==============================] - 0s 1ms/step - loss: 0.2298 - acc: 0.9167 - val_loss: 0.4446 - val_acc: 0.8500\n",
      "Epoch 12/45\n",
      "180/180 [==============================] - 0s 1ms/step - loss: 0.2029 - acc: 0.9167 - val_loss: 0.4719 - val_acc: 0.8500\n",
      "Epoch 13/45\n",
      "180/180 [==============================] - 0s 1ms/step - loss: 0.1541 - acc: 0.9278 - val_loss: 0.2660 - val_acc: 0.9000\n",
      "Epoch 14/45\n",
      "180/180 [==============================] - 0s 1ms/step - loss: 0.1230 - acc: 0.9556 - val_loss: 0.2365 - val_acc: 0.9000\n",
      "Epoch 15/45\n",
      "180/180 [==============================] - 0s 1ms/step - loss: 0.1103 - acc: 0.9667 - val_loss: 0.1932 - val_acc: 0.9500\n",
      "Epoch 16/45\n",
      "180/180 [==============================] - 0s 1ms/step - loss: 0.0875 - acc: 0.9722 - val_loss: 0.3041 - val_acc: 0.9000\n",
      "Epoch 17/45\n",
      "180/180 [==============================] - 0s 1ms/step - loss: 0.0762 - acc: 0.9833 - val_loss: 0.8583 - val_acc: 0.8000\n",
      "Epoch 18/45\n",
      "180/180 [==============================] - 0s 1ms/step - loss: 0.0764 - acc: 0.9833 - val_loss: 0.5704 - val_acc: 0.8000\n",
      "Epoch 19/45\n",
      "180/180 [==============================] - 0s 1ms/step - loss: 0.0543 - acc: 0.9833 - val_loss: 0.3069 - val_acc: 0.8500\n",
      "Epoch 20/45\n",
      "180/180 [==============================] - 0s 1ms/step - loss: 0.0593 - acc: 0.9833 - val_loss: 0.3276 - val_acc: 0.8500\n",
      "Epoch 21/45\n",
      "180/180 [==============================] - 0s 1ms/step - loss: 0.0523 - acc: 0.9833 - val_loss: 0.8768 - val_acc: 0.8000\n",
      "Epoch 22/45\n",
      "180/180 [==============================] - 0s 1ms/step - loss: 0.0508 - acc: 0.9889 - val_loss: 0.3102 - val_acc: 0.8500\n",
      "Epoch 23/45\n",
      "180/180 [==============================] - 0s 1ms/step - loss: 0.0149 - acc: 1.0000 - val_loss: 0.6037 - val_acc: 0.8500\n",
      "Epoch 24/45\n",
      "180/180 [==============================] - 0s 1ms/step - loss: 0.0107 - acc: 1.0000 - val_loss: 0.4938 - val_acc: 0.8500\n",
      "Epoch 25/45\n",
      "180/180 [==============================] - 0s 1ms/step - loss: 0.0047 - acc: 1.0000 - val_loss: 0.5260 - val_acc: 0.8500\n",
      "Epoch 26/45\n",
      "180/180 [==============================] - 0s 1ms/step - loss: 0.0029 - acc: 1.0000 - val_loss: 0.4103 - val_acc: 0.8500\n",
      "Epoch 27/45\n",
      "180/180 [==============================] - 0s 1ms/step - loss: 0.0020 - acc: 1.0000 - val_loss: 0.4300 - val_acc: 0.8500\n",
      "Epoch 28/45\n",
      "180/180 [==============================] - 0s 1ms/step - loss: 0.0014 - acc: 1.0000 - val_loss: 0.4407 - val_acc: 0.8500\n",
      "Epoch 29/45\n",
      "180/180 [==============================] - 0s 1ms/step - loss: 0.0011 - acc: 1.0000 - val_loss: 0.4343 - val_acc: 0.8500\n",
      "Epoch 30/45\n",
      "180/180 [==============================] - 0s 1ms/step - loss: 7.6418e-04 - acc: 1.0000 - val_loss: 0.5260 - val_acc: 0.8500\n",
      "Epoch 31/45\n",
      "180/180 [==============================] - 0s 1ms/step - loss: 6.6186e-04 - acc: 1.0000 - val_loss: 0.5781 - val_acc: 0.8500\n",
      "Epoch 32/45\n",
      "180/180 [==============================] - 0s 1ms/step - loss: 5.3254e-04 - acc: 1.0000 - val_loss: 0.5345 - val_acc: 0.8500\n",
      "Epoch 33/45\n",
      "180/180 [==============================] - 0s 1ms/step - loss: 4.5380e-04 - acc: 1.0000 - val_loss: 0.5030 - val_acc: 0.8500\n",
      "Epoch 34/45\n",
      "180/180 [==============================] - 0s 1ms/step - loss: 3.9597e-04 - acc: 1.0000 - val_loss: 0.5668 - val_acc: 0.8500\n",
      "Epoch 35/45\n",
      "180/180 [==============================] - 0s 1ms/step - loss: 3.4049e-04 - acc: 1.0000 - val_loss: 0.5774 - val_acc: 0.8500\n",
      "Epoch 36/45\n",
      "180/180 [==============================] - 0s 1ms/step - loss: 3.0174e-04 - acc: 1.0000 - val_loss: 0.5586 - val_acc: 0.8500\n",
      "Epoch 37/45\n",
      "180/180 [==============================] - 0s 1ms/step - loss: 2.6874e-04 - acc: 1.0000 - val_loss: 0.5624 - val_acc: 0.8500\n",
      "Epoch 38/45\n",
      "180/180 [==============================] - 0s 1ms/step - loss: 2.4188e-04 - acc: 1.0000 - val_loss: 0.5770 - val_acc: 0.8500\n",
      "Epoch 39/45\n",
      "180/180 [==============================] - 0s 1ms/step - loss: 2.2469e-04 - acc: 1.0000 - val_loss: 0.5942 - val_acc: 0.8500\n",
      "Epoch 40/45\n",
      "180/180 [==============================] - 0s 1ms/step - loss: 2.0013e-04 - acc: 1.0000 - val_loss: 0.5575 - val_acc: 0.8500\n",
      "Epoch 41/45\n",
      "180/180 [==============================] - 0s 1ms/step - loss: 1.8623e-04 - acc: 1.0000 - val_loss: 0.5801 - val_acc: 0.8500\n",
      "Epoch 42/45\n",
      "180/180 [==============================] - 0s 1ms/step - loss: 1.7003e-04 - acc: 1.0000 - val_loss: 0.5681 - val_acc: 0.8500\n",
      "Epoch 43/45\n",
      "180/180 [==============================] - 0s 1ms/step - loss: 1.5065e-04 - acc: 1.0000 - val_loss: 0.5893 - val_acc: 0.8500\n",
      "Epoch 44/45\n",
      "180/180 [==============================] - 0s 1ms/step - loss: 1.3851e-04 - acc: 1.0000 - val_loss: 0.5642 - val_acc: 0.8500\n",
      "Epoch 45/45\n",
      "180/180 [==============================] - 0s 1ms/step - loss: 1.2704e-04 - acc: 1.0000 - val_loss: 0.5684 - val_acc: 0.8500\n"
     ]
    }
   ],
   "source": [
    "hist = model.fit(xtrain, ytrain, validation_data=(xtest, ytest), epochs=45)\n"
   ]
  },
  {
   "cell_type": "code",
   "execution_count": null,
   "metadata": {},
   "outputs": [],
   "source": [
    "hist = model.fit(xtrain, ytrain, validation_data=(xtest, ytest), epochs=15)\n"
   ]
  },
  {
   "cell_type": "code",
   "execution_count": 12,
   "metadata": {},
   "outputs": [
    {
     "name": "stdout",
     "output_type": "stream",
     "text": [
      "[0.5, 0.550000011920929, 0.75, 0.6000000238418579, 0.6499999761581421, 0.75, 0.75, 0.800000011920929, 0.800000011920929, 0.800000011920929, 0.8500000238418579, 0.8500000238418579, 0.8999999761581421, 0.8999999761581421, 0.949999988079071, 0.8999999761581421, 0.800000011920929, 0.800000011920929, 0.8500000238418579, 0.8500000238418579, 0.800000011920929, 0.8500000238418579, 0.8500000238418579, 0.8500000238418579, 0.8500000238418579, 0.8500000238418579, 0.8500000238418579, 0.8500000238418579, 0.8500000238418579, 0.8500000238418579, 0.8500000238418579, 0.8500000238418579, 0.8500000238418579, 0.8500000238418579, 0.8500000238418579, 0.8500000238418579, 0.8500000238418579, 0.8500000238418579, 0.8500000238418579, 0.8500000238418579, 0.8500000238418579, 0.8500000238418579, 0.8500000238418579, 0.8500000238418579, 0.8500000238418579]\n"
     ]
    }
   ],
   "source": [
    "print(hist.history[\"val_acc\"])"
   ]
  }
 ],
 "metadata": {
  "kernelspec": {
   "display_name": "Python 3",
   "language": "python",
   "name": "python3"
  },
  "language_info": {
   "codemirror_mode": {
    "name": "ipython",
    "version": 3
   },
   "file_extension": ".py",
   "mimetype": "text/x-python",
   "name": "python",
   "nbconvert_exporter": "python",
   "pygments_lexer": "ipython3",
   "version": "3.7.4"
  }
 },
 "nbformat": 4,
 "nbformat_minor": 2
}
